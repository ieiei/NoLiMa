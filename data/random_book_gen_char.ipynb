{
 "cells": [
  {
   "cell_type": "code",
   "execution_count": null,
   "metadata": {},
   "outputs": [],
   "source": [
    "import random\n",
    "import os\n",
    "\n",
    "list_of_books = os.listdir(\"./haystack/books/III-filter\")"
   ]
  },
  {
   "cell_type": "code",
   "execution_count": null,
   "metadata": {},
   "outputs": [],
   "source": [
    "RAND_BOOKS = 5\n",
    "MIN_LEN_CHAR = 1000\n",
    "random.seed(42)\n",
    "for j in range(RAND_BOOKS):\n",
    "    BOOK_LINES = random.randint(2000, 2500)\n",
    "    i = 0\n",
    "    new_book = \"\"\n",
    "    while i < BOOK_LINES:\n",
    "        book = random.choice(list_of_books)\n",
    "        adding_part = \"\"\n",
    "        with open(f\"./haystack/III-filter/{book}\", \"r\") as f:\n",
    "            lines = f.readlines()\n",
    "            line_no = random.randint(1, len(lines)-1)\n",
    "            while len(adding_part) < MIN_LEN_CHAR and line_no < len(lines):\n",
    "                if lines[line_no].startswith(\"Chapter\") or lines[line_no].startswith(\"CHAPTER\") or lines[line_no].startswith(\"...\") or lines[line_no].endswith(\"...\\n\") or lines[line_no].strip() == \"\":\n",
    "                    line_no += 1\n",
    "                    continue\n",
    "                adding_part += lines[line_no]\n",
    "                line_no += 1\n",
    "                i += 1\n",
    "            new_book += adding_part\n",
    "    with open(f\"./haystack/rand_shuffle/rand_book_{j+1}.txt\", \"w\") as f:\n",
    "        f.write(new_book)"
   ]
  },
  {
   "cell_type": "code",
   "execution_count": null,
   "metadata": {},
   "outputs": [],
   "source": []
  }
 ],
 "metadata": {
  "kernelspec": {
   "display_name": "nolima-env",
   "language": "python",
   "name": "python3"
  },
  "language_info": {
   "codemirror_mode": {
    "name": "ipython",
    "version": 3
   },
   "file_extension": ".py",
   "mimetype": "text/x-python",
   "name": "python",
   "nbconvert_exporter": "python",
   "pygments_lexer": "ipython3",
   "version": "3.11.11"
  }
 },
 "nbformat": 4,
 "nbformat_minor": 2
}
